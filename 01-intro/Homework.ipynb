{
 "cells": [
  {
   "cell_type": "code",
   "execution_count": 1,
   "id": "403b1502-8271-4461-af62-de03c4959f4d",
   "metadata": {},
   "outputs": [],
   "source": [
    "import openai\n",
    "import os"
   ]
  },
  {
   "cell_type": "code",
   "execution_count": 2,
   "id": "fc3e1685-42cd-440e-9ae6-d710a07e1ebb",
   "metadata": {},
   "outputs": [],
   "source": [
    "from openai import OpenAI"
   ]
  },
  {
   "cell_type": "code",
   "execution_count": 6,
   "id": "612c440b-a000-4375-bf49-54cc12247b81",
   "metadata": {},
   "outputs": [],
   "source": [
    "client = OpenAI()"
   ]
  },
  {
   "cell_type": "code",
   "execution_count": 7,
   "id": "08bcaf38-c6af-4b0b-b279-a77896ea1ea0",
   "metadata": {},
   "outputs": [],
   "source": [
    "response = client.chat.completions.create(\n",
    "    model='gpt-4o',\n",
    "    messages=[{\"role\": \"user\", \"content\": \"is it too late to join the course?\"}]\n",
    ")"
   ]
  },
  {
   "cell_type": "code",
   "execution_count": 8,
   "id": "1a4e4c58-ddf6-415e-9375-05aee44160e7",
   "metadata": {
    "scrolled": true
   },
   "outputs": [
    {
     "data": {
      "text/plain": [
       "\"Whether it is too late to join a course depends on several factors, including the specific course's enrollment deadlines, the institution's policies, and the current point in the academic term or program schedule. Here are a few steps you can take to find out:\\n\\n1. **Check the Course Schedule:** Look at the academic calendar or course schedule on the institution's website to see the enrollment deadlines.\\n\\n2. **Contact the Instructor:** Reach out to the course instructor to ask if late enrollment is an option. Sometimes, instructors allow late joiners if they can catch up.\\n\\n3. **Contact the Registrar or Admissions Office:** They will have the most accurate and up-to-date information regarding enrollment policies and deadlines.\\n\\n4. **Look for Late-Start Classes:** Some institutions offer late-start classes or rolling admissions, which could provide an alternative way to join the course.\\n\\n5. **Explore Online Options:** If it’s too late to join an in-person class, many institutions offer online courses with more flexible start dates.\\n\\n6. **Consider Auditing:** If formal enrollment is no longer an option, inquire if you can audit the course. This would allow you to attend and learn without receiving formal credit.\\n\\nBy taking these steps, you can gather the information you need to determine whether you can still join the course.\""
      ]
     },
     "execution_count": 8,
     "metadata": {},
     "output_type": "execute_result"
    }
   ],
   "source": [
    "response.choices[0].message.content"
   ]
  },
  {
   "cell_type": "code",
   "execution_count": 1,
   "id": "9668635f-6d4e-4b5b-88ce-0ebb1858681f",
   "metadata": {},
   "outputs": [],
   "source": [
    "import requests \n",
    "import tiktoken\n",
    "\n",
    "from elasticsearch import Elasticsearch\n",
    "from tqdm.auto import tqdm"
   ]
  },
  {
   "cell_type": "code",
   "execution_count": 12,
   "id": "87956f05-919a-48ed-9be9-cdcd30108bee",
   "metadata": {},
   "outputs": [],
   "source": [
    "# Fetch documents\n",
    "docs_url = 'https://github.com/DataTalksClub/llm-zoomcamp/blob/main/01-intro/documents.json?raw=1'\n",
    "docs_response = requests.get(docs_url)\n",
    "documents_raw = docs_response.json()\n",
    "\n",
    "documents = []\n",
    "\n",
    "for course in documents_raw:\n",
    "    course_name = course['course']\n",
    "    for doc in course['documents']:\n",
    "        doc['course'] = course_name\n",
    "        documents.append(doc)"
   ]
  },
  {
   "cell_type": "code",
   "execution_count": 15,
   "id": "0f34124d-01a9-4662-81fa-15200fc7a088",
   "metadata": {},
   "outputs": [],
   "source": [
    "es_client = Elasticsearch('http://localhost:9200') "
   ]
  },
  {
   "cell_type": "code",
   "execution_count": 17,
   "id": "c44e2c6f-080c-42aa-98da-194355a52905",
   "metadata": {},
   "outputs": [],
   "source": [
    "index_settings = {\n",
    "    \"settings\": {\n",
    "        \"number_of_shards\": 1,\n",
    "        \"number_of_replicas\": 0\n",
    "    },\n",
    "    \"mappings\": {\n",
    "        \"properties\": {\n",
    "            \"text\": {\"type\": \"text\"},\n",
    "            \"section\": {\"type\": \"text\"},\n",
    "            \"question\": {\"type\": \"text\"},\n",
    "            \"course\": {\"type\": \"keyword\"} \n",
    "        }\n",
    "    }\n",
    "}"
   ]
  },
  {
   "cell_type": "code",
   "execution_count": null,
   "id": "4fc706ab-b208-48a3-a53a-6ef771a834c6",
   "metadata": {},
   "outputs": [],
   "source": [
    "index_name = \"course-questions-homework1\"\n",
    "es_client.indices.create(index=index_name, body=index_settings)"
   ]
  },
  {
   "cell_type": "code",
   "execution_count": null,
   "id": "1f68fdba-2238-4cb1-a96e-9d973ad6d6b7",
   "metadata": {},
   "outputs": [],
   "source": [
    "for doc in tqdm(documents):\n",
    "    es_client.index(index=index_name, document=doc)"
   ]
  },
  {
   "cell_type": "code",
   "execution_count": null,
   "id": "ff954bc6-9296-4c33-b96c-fb6e21674860",
   "metadata": {},
   "outputs": [],
   "source": [
    "query = 'How do I execute a command in a running docker container?'"
   ]
  },
  {
   "cell_type": "code",
   "execution_count": null,
   "id": "3c551b58-a245-4b61-b088-c9f480619355",
   "metadata": {},
   "outputs": [],
   "source": [
    "def elastic_search(query):\n",
    "    search_query = {\n",
    "        \"size\": 5,\n",
    "        \"query\": {\n",
    "            \"bool\": {\n",
    "                \"must\": {\n",
    "                    \"multi_match\": {\n",
    "                        \"query\": query,\n",
    "                        \"fields\": [\"question^4\", \"text\"],\n",
    "                        \"type\": \"best_fields\"\n",
    "                    }\n",
    "                }\n",
    "            }\n",
    "        }\n",
    "    }\n",
    "\n",
    "    response = es_client.search(index=index_name, body=search_query)\n",
    "    \n",
    "    result_docs = []\n",
    "    \n",
    "    for hit in response['hits']['hits']:\n",
    "        result_docs.append({\n",
    "            \"score\": hit['_score'],\n",
    "            \"source\": hit['_source']})\n",
    "    \n",
    "    return result_docs"
   ]
  },
  {
   "cell_type": "code",
   "execution_count": null,
   "id": "f89ff5af-3516-4805-827c-ca108567719a",
   "metadata": {},
   "outputs": [],
   "source": [
    "result = elastic_search(query)\n",
    "result"
   ]
  },
  {
   "cell_type": "code",
   "execution_count": null,
   "id": "f0dcbc22-c0e1-46d4-80cd-954c9f44f8cc",
   "metadata": {},
   "outputs": [],
   "source": [
    "def elastic_search(query):\n",
    "    search_query = {\n",
    "        \"size\": 3,\n",
    "        \"query\": {\n",
    "            \"bool\": {\n",
    "                \"must\": {\n",
    "                    \"multi_match\": {\n",
    "                        \"query\": query,\n",
    "                        \"fields\": [\"question^3\", \"text\", \"section\"],\n",
    "                        \"type\": \"best_fields\"\n",
    "                    }\n",
    "                },\n",
    "                \"filter\": {\n",
    "                    \"term\": {\n",
    "                        \"course\": \"machine-learning-zoomcamp\"\n",
    "                    }\n",
    "                }\n",
    "            }\n",
    "        }\n",
    "    }\n",
    "\n",
    "    response = es_client.search(index=index_name, body=search_query)\n",
    "    \n",
    "    result_docs = []\n",
    "    \n",
    "    for hit in response['hits']['hits']:\n",
    "        result_docs.append(hit['_source'])\n",
    "    \n",
    "    return result_docs"
   ]
  },
  {
   "cell_type": "code",
   "execution_count": null,
   "id": "2ae46057-1a73-4c1c-9562-421b33ddf9ae",
   "metadata": {},
   "outputs": [],
   "source": [
    "result = elastic_search(query)\n",
    "result"
   ]
  },
  {
   "cell_type": "code",
   "execution_count": null,
   "id": "95a51ce1-3b5f-47d7-85e9-b00de3c36cda",
   "metadata": {},
   "outputs": [],
   "source": [
    "def build_prompt(query, search_results):\n",
    "    context_template = \"\"\"\n",
    "Q: {question}\n",
    "A: {text}\n",
    "\"\"\".strip()\n",
    "\n",
    "    prompt_template = \"\"\"\n",
    "You're a course teaching assistant. Answer the QUESTION based on the CONTEXT from the FAQ database.\n",
    "Use only the facts from the CONTEXT when answering the QUESTION.\n",
    "\n",
    "QUESTION: {question}\n",
    "\n",
    "CONTEXT:\n",
    "{context}\n",
    "\"\"\".strip()\n",
    "\n",
    "    context_entries = []\n",
    "    \n",
    "    for doc in search_results:\n",
    "        context_entry = context_template.format(question=doc['question'], text=doc['text'])\n",
    "        context_entries.append(context_entry)\n",
    "    \n",
    "    context = \"\\n\\n\".join(context_entries)\n",
    "    \n",
    "    prompt = prompt_template.format(question=query, context=context).strip()\n",
    "    return prompt"
   ]
  },
  {
   "cell_type": "code",
   "execution_count": null,
   "id": "5368e7d4-a69f-4275-b67e-4b22b88f8c3f",
   "metadata": {},
   "outputs": [],
   "source": [
    "result"
   ]
  },
  {
   "cell_type": "code",
   "execution_count": null,
   "id": "cda350e7-63a4-42b3-a8b5-286a5f6e3194",
   "metadata": {},
   "outputs": [],
   "source": [
    "# Example usage\n",
    "query = \"How do I execute a command in a running docker container?\"\n",
    "prompt = build_prompt(query, result)\n",
    "print(prompt)"
   ]
  },
  {
   "cell_type": "code",
   "execution_count": null,
   "id": "d382451a-e450-4cf4-8930-5692df8330b7",
   "metadata": {},
   "outputs": [],
   "source": [
    "len(prompt)"
   ]
  },
  {
   "cell_type": "code",
   "execution_count": null,
   "id": "1dcdb242-d821-4e58-9f45-f2d329a446cf",
   "metadata": {},
   "outputs": [],
   "source": [
    "encoding = tiktoken.encoding_for_model(\"gpt-4o\")"
   ]
  },
  {
   "cell_type": "code",
   "execution_count": null,
   "id": "bb4f4ce7-1b51-4301-ac8b-1a85a0b7f1a8",
   "metadata": {},
   "outputs": [],
   "source": [
    "tokens = encoding.encode(prompt)\n",
    "num_tokens = len(tokens)\n",
    "num_tokens"
   ]
  },
  {
   "cell_type": "code",
   "execution_count": null,
   "id": "b36785e9-8b0f-4567-adc2-bfa898ebeeff",
   "metadata": {},
   "outputs": [],
   "source": []
  }
 ],
 "metadata": {
  "kernelspec": {
   "display_name": "Python 3 (ipykernel)",
   "language": "python",
   "name": "python3"
  },
  "language_info": {
   "codemirror_mode": {
    "name": "ipython",
    "version": 3
   },
   "file_extension": ".py",
   "mimetype": "text/x-python",
   "name": "python",
   "nbconvert_exporter": "python",
   "pygments_lexer": "ipython3",
   "version": "3.10.13"
  }
 },
 "nbformat": 4,
 "nbformat_minor": 5
}
